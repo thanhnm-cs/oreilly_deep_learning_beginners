{
 "cells": [
  {
   "cell_type": "code",
   "execution_count": 1,
   "metadata": {},
   "outputs": [
    {
     "name": "stdout",
     "output_type": "stream",
     "text": [
      "Requirement already satisfied: pandas in /usr/local/lib/python3.8/dist-packages (2.0.2)\n",
      "Requirement already satisfied: numpy in /usr/local/lib/python3.8/dist-packages (1.23.5)\n",
      "Requirement already satisfied: scikit-learn in /usr/local/lib/python3.8/dist-packages (1.2.2)\n",
      "Requirement already satisfied: pytz>=2020.1 in /usr/local/lib/python3.8/dist-packages (from pandas) (2023.3)\n",
      "Requirement already satisfied: tzdata>=2022.1 in /usr/local/lib/python3.8/dist-packages (from pandas) (2023.3)\n",
      "Requirement already satisfied: python-dateutil>=2.8.2 in /usr/local/lib/python3.8/dist-packages (from pandas) (2.8.2)\n",
      "Requirement already satisfied: threadpoolctl>=2.0.0 in /usr/local/lib/python3.8/dist-packages (from scikit-learn) (3.1.0)\n",
      "Requirement already satisfied: joblib>=1.1.1 in /usr/local/lib/python3.8/dist-packages (from scikit-learn) (1.2.0)\n",
      "Requirement already satisfied: scipy>=1.3.2 in /usr/local/lib/python3.8/dist-packages (from scikit-learn) (1.10.1)\n",
      "Requirement already satisfied: six>=1.5 in /usr/lib/python3/dist-packages (from python-dateutil>=2.8.2->pandas) (1.14.0)\n",
      "\u001b[33mWARNING: Running pip as the 'root' user can result in broken permissions and conflicting behaviour with the system package manager. It is recommended to use a virtual environment instead: https://pip.pypa.io/warnings/venv\u001b[0m\u001b[33m\n",
      "\u001b[0m\n",
      "\u001b[1m[\u001b[0m\u001b[34;49mnotice\u001b[0m\u001b[1;39;49m]\u001b[0m\u001b[39;49m A new release of pip is available: \u001b[0m\u001b[31;49m23.0.1\u001b[0m\u001b[39;49m -> \u001b[0m\u001b[32;49m23.1.2\u001b[0m\n",
      "\u001b[1m[\u001b[0m\u001b[34;49mnotice\u001b[0m\u001b[1;39;49m]\u001b[0m\u001b[39;49m To update, run: \u001b[0m\u001b[32;49mpython3 -m pip install --upgrade pip\u001b[0m\n"
     ]
    }
   ],
   "source": [
    "!pip3 install pandas numpy scikit-learn"
   ]
  },
  {
   "cell_type": "code",
   "execution_count": 2,
   "metadata": {},
   "outputs": [
    {
     "name": "stderr",
     "output_type": "stream",
     "text": [
      "2023-06-16 05:02:21.691484: I tensorflow/core/util/port.cc:110] oneDNN custom operations are on. You may see slightly different numerical results due to floating-point round-off errors from different computation orders. To turn them off, set the environment variable `TF_ENABLE_ONEDNN_OPTS=0`.\n",
      "2023-06-16 05:02:21.741362: I tensorflow/core/platform/cpu_feature_guard.cc:182] This TensorFlow binary is optimized to use available CPU instructions in performance-critical operations.\n",
      "To enable the following instructions: AVX2 AVX512F AVX512_VNNI FMA, in other operations, rebuild TensorFlow with the appropriate compiler flags.\n",
      "2023-06-16 05:02:24.812915: I tensorflow/compiler/xla/stream_executor/cuda/cuda_gpu_executor.cc:982] could not open file to read NUMA node: /sys/bus/pci/devices/0000:f3:00.0/numa_node\n",
      "Your kernel may have been built without NUMA support.\n",
      "2023-06-16 05:02:24.824147: I tensorflow/compiler/xla/stream_executor/cuda/cuda_gpu_executor.cc:982] could not open file to read NUMA node: /sys/bus/pci/devices/0000:f3:00.0/numa_node\n",
      "Your kernel may have been built without NUMA support.\n",
      "2023-06-16 05:02:24.824727: I tensorflow/compiler/xla/stream_executor/cuda/cuda_gpu_executor.cc:982] could not open file to read NUMA node: /sys/bus/pci/devices/0000:f3:00.0/numa_node\n",
      "Your kernel may have been built without NUMA support.\n"
     ]
    },
    {
     "data": {
      "text/plain": [
       "[PhysicalDevice(name='/physical_device:GPU:0', device_type='GPU')]"
      ]
     },
     "execution_count": 2,
     "metadata": {},
     "output_type": "execute_result"
    }
   ],
   "source": [
    "import tensorflow as tf\n",
    "tf.config.list_physical_devices('GPU')\n"
   ]
  },
  {
   "cell_type": "code",
   "execution_count": 3,
   "metadata": {},
   "outputs": [
    {
     "name": "stderr",
     "output_type": "stream",
     "text": [
      "2023-06-16 05:02:24.864549: I tensorflow/compiler/xla/stream_executor/cuda/cuda_gpu_executor.cc:982] could not open file to read NUMA node: /sys/bus/pci/devices/0000:f3:00.0/numa_node\n",
      "Your kernel may have been built without NUMA support.\n",
      "2023-06-16 05:02:24.865103: I tensorflow/compiler/xla/stream_executor/cuda/cuda_gpu_executor.cc:982] could not open file to read NUMA node: /sys/bus/pci/devices/0000:f3:00.0/numa_node\n",
      "Your kernel may have been built without NUMA support.\n",
      "2023-06-16 05:02:24.865494: I tensorflow/compiler/xla/stream_executor/cuda/cuda_gpu_executor.cc:982] could not open file to read NUMA node: /sys/bus/pci/devices/0000:f3:00.0/numa_node\n",
      "Your kernel may have been built without NUMA support.\n",
      "2023-06-16 05:02:25.752755: I tensorflow/compiler/xla/stream_executor/cuda/cuda_gpu_executor.cc:982] could not open file to read NUMA node: /sys/bus/pci/devices/0000:f3:00.0/numa_node\n",
      "Your kernel may have been built without NUMA support.\n",
      "2023-06-16 05:02:25.753439: I tensorflow/compiler/xla/stream_executor/cuda/cuda_gpu_executor.cc:982] could not open file to read NUMA node: /sys/bus/pci/devices/0000:f3:00.0/numa_node\n",
      "Your kernel may have been built without NUMA support.\n",
      "2023-06-16 05:02:25.753478: I tensorflow/core/common_runtime/gpu/gpu_device.cc:1722] Could not identify NUMA node of platform GPU id 0, defaulting to 0.  Your kernel may not have been built with NUMA support.\n",
      "2023-06-16 05:02:25.754073: I tensorflow/compiler/xla/stream_executor/cuda/cuda_gpu_executor.cc:982] could not open file to read NUMA node: /sys/bus/pci/devices/0000:f3:00.0/numa_node\n",
      "Your kernel may have been built without NUMA support.\n",
      "2023-06-16 05:02:25.754250: I tensorflow/core/common_runtime/gpu/gpu_device.cc:1635] Created device /job:localhost/replica:0/task:0/device:GPU:0 with 1551 MB memory:  -> device: 0, name: NVIDIA GeForce RTX 3050 Ti Laptop GPU, pci bus id: 0000:f3:00.0, compute capability: 8.6\n"
     ]
    }
   ],
   "source": [
    "\n",
    "model = tf.keras.models.Sequential([\n",
    "  tf.keras.layers.Dense(3, activation='relu'),\n",
    "  tf.keras.layers.Dense(1, activation='sigmoid')\n",
    "])\n"
   ]
  },
  {
   "cell_type": "code",
   "execution_count": 4,
   "metadata": {},
   "outputs": [],
   "source": [
    "loss_fn = tf.keras.losses.MeanSquaredError()\n",
    "\n",
    "# compile the model \n",
    "model.compile(optimizer='adam',\n",
    "              loss=loss_fn,\n",
    "              metrics=['accuracy'])\n",
    "\n"
   ]
  },
  {
   "cell_type": "code",
   "execution_count": 5,
   "metadata": {},
   "outputs": [],
   "source": [
    "\n",
    "import pandas as pd \n",
    "from sklearn.model_selection import train_test_split\n",
    "from sklearn.metrics import confusion_matrix\n",
    "\n",
    "data = pd.read_csv(\"https://tinyurl.com/y2qmhfsr\")\n",
    "\n",
    "# Extract the input columns, scale down by 255\n",
    "X = (data.iloc[:, 0:3].values / 255.0)\n",
    "Y = data.iloc[:, -1].values\n",
    "\n",
    "# Split train and test data sets\n",
    "X_train, X_test, Y_train, Y_test = train_test_split(X, Y, test_size=1/3)\n",
    "\n",
    "\n",
    "\n"
   ]
  },
  {
   "cell_type": "code",
   "execution_count": 6,
   "metadata": {},
   "outputs": [
    {
     "name": "stdout",
     "output_type": "stream",
     "text": [
      "Epoch 1/100\n"
     ]
    },
    {
     "name": "stderr",
     "output_type": "stream",
     "text": [
      "2023-06-16 05:02:29.655710: I tensorflow/compiler/xla/stream_executor/cuda/cuda_blas.cc:637] TensorFloat-32 will be used for the matrix multiplication. This will only be logged once.\n",
      "2023-06-16 05:02:29.661364: I tensorflow/compiler/xla/service/service.cc:169] XLA service 0x7f1a9c613bc0 initialized for platform CUDA (this does not guarantee that XLA will be used). Devices:\n",
      "2023-06-16 05:02:29.661443: I tensorflow/compiler/xla/service/service.cc:177]   StreamExecutor device (0): NVIDIA GeForce RTX 3050 Ti Laptop GPU, Compute Capability 8.6\n",
      "2023-06-16 05:02:29.666306: I tensorflow/compiler/mlir/tensorflow/utils/dump_mlir_util.cc:269] disabling MLIR crash reproducer, set env var `MLIR_CRASH_REPRODUCER_DIRECTORY` to enable.\n",
      "2023-06-16 05:02:29.897834: I tensorflow/compiler/xla/stream_executor/cuda/cuda_dnn.cc:424] Loaded cuDNN version 8600\n",
      "2023-06-16 05:02:30.089256: I ./tensorflow/compiler/jit/device_compiler.h:180] Compiled cluster using XLA!  This line is logged at most once for the lifetime of the process.\n"
     ]
    },
    {
     "name": "stdout",
     "output_type": "stream",
     "text": [
      "28/28 [==============================] - 4s 6ms/step - loss: 0.1885 - accuracy: 0.6473\n",
      "Epoch 2/100\n",
      "28/28 [==============================] - 0s 6ms/step - loss: 0.1847 - accuracy: 0.6574\n",
      "Epoch 3/100\n",
      "28/28 [==============================] - 0s 6ms/step - loss: 0.1814 - accuracy: 0.6641\n",
      "Epoch 4/100\n",
      "28/28 [==============================] - 0s 4ms/step - loss: 0.1779 - accuracy: 0.6797\n",
      "Epoch 5/100\n",
      "28/28 [==============================] - 0s 4ms/step - loss: 0.1744 - accuracy: 0.6931\n",
      "Epoch 6/100\n",
      "28/28 [==============================] - 0s 4ms/step - loss: 0.1709 - accuracy: 0.7054\n",
      "Epoch 7/100\n",
      "28/28 [==============================] - 0s 5ms/step - loss: 0.1673 - accuracy: 0.7176\n",
      "Epoch 8/100\n",
      "28/28 [==============================] - 0s 5ms/step - loss: 0.1637 - accuracy: 0.7355\n",
      "Epoch 9/100\n",
      "28/28 [==============================] - 0s 4ms/step - loss: 0.1600 - accuracy: 0.7478\n",
      "Epoch 10/100\n",
      "28/28 [==============================] - 0s 4ms/step - loss: 0.1564 - accuracy: 0.7734\n",
      "Epoch 11/100\n",
      "28/28 [==============================] - 0s 4ms/step - loss: 0.1527 - accuracy: 0.7812\n",
      "Epoch 12/100\n",
      "28/28 [==============================] - 0s 4ms/step - loss: 0.1490 - accuracy: 0.7913\n",
      "Epoch 13/100\n",
      "28/28 [==============================] - 0s 4ms/step - loss: 0.1455 - accuracy: 0.8013\n",
      "Epoch 14/100\n",
      "28/28 [==============================] - 0s 4ms/step - loss: 0.1419 - accuracy: 0.8170\n",
      "Epoch 15/100\n",
      "28/28 [==============================] - 0s 4ms/step - loss: 0.1384 - accuracy: 0.8315\n",
      "Epoch 16/100\n",
      "28/28 [==============================] - 0s 4ms/step - loss: 0.1349 - accuracy: 0.8404\n",
      "Epoch 17/100\n",
      "28/28 [==============================] - 0s 4ms/step - loss: 0.1315 - accuracy: 0.8504\n",
      "Epoch 18/100\n",
      "28/28 [==============================] - 0s 4ms/step - loss: 0.1282 - accuracy: 0.8527\n",
      "Epoch 19/100\n",
      "28/28 [==============================] - 0s 4ms/step - loss: 0.1247 - accuracy: 0.8638\n",
      "Epoch 20/100\n",
      "28/28 [==============================] - 0s 5ms/step - loss: 0.1215 - accuracy: 0.8694\n",
      "Epoch 21/100\n",
      "28/28 [==============================] - 0s 5ms/step - loss: 0.1184 - accuracy: 0.8806\n",
      "Epoch 22/100\n",
      "28/28 [==============================] - 0s 6ms/step - loss: 0.1153 - accuracy: 0.8873\n",
      "Epoch 23/100\n",
      "28/28 [==============================] - 0s 6ms/step - loss: 0.1124 - accuracy: 0.8940\n",
      "Epoch 24/100\n",
      "28/28 [==============================] - 0s 5ms/step - loss: 0.1096 - accuracy: 0.8996\n",
      "Epoch 25/100\n",
      "28/28 [==============================] - 0s 4ms/step - loss: 0.1069 - accuracy: 0.9029\n",
      "Epoch 26/100\n",
      "28/28 [==============================] - 0s 4ms/step - loss: 0.1044 - accuracy: 0.9085\n",
      "Epoch 27/100\n",
      "28/28 [==============================] - 0s 4ms/step - loss: 0.1019 - accuracy: 0.9085\n",
      "Epoch 28/100\n",
      "28/28 [==============================] - 0s 4ms/step - loss: 0.0998 - accuracy: 0.9085\n",
      "Epoch 29/100\n",
      "28/28 [==============================] - 0s 4ms/step - loss: 0.0974 - accuracy: 0.9174\n",
      "Epoch 30/100\n",
      "28/28 [==============================] - 0s 4ms/step - loss: 0.0953 - accuracy: 0.9263\n",
      "Epoch 31/100\n",
      "28/28 [==============================] - 0s 4ms/step - loss: 0.0933 - accuracy: 0.9297\n",
      "Epoch 32/100\n",
      "28/28 [==============================] - 0s 4ms/step - loss: 0.0914 - accuracy: 0.9308\n",
      "Epoch 33/100\n",
      "28/28 [==============================] - 0s 4ms/step - loss: 0.0896 - accuracy: 0.9364\n",
      "Epoch 34/100\n",
      "28/28 [==============================] - 0s 4ms/step - loss: 0.0878 - accuracy: 0.9353\n",
      "Epoch 35/100\n",
      "28/28 [==============================] - 0s 4ms/step - loss: 0.0861 - accuracy: 0.9397\n",
      "Epoch 36/100\n",
      "28/28 [==============================] - 0s 4ms/step - loss: 0.0845 - accuracy: 0.9397\n",
      "Epoch 37/100\n",
      "28/28 [==============================] - 0s 5ms/step - loss: 0.0830 - accuracy: 0.9420\n",
      "Epoch 38/100\n",
      "28/28 [==============================] - 0s 5ms/step - loss: 0.0816 - accuracy: 0.9408\n",
      "Epoch 39/100\n",
      "28/28 [==============================] - 0s 4ms/step - loss: 0.0801 - accuracy: 0.9487\n",
      "Epoch 40/100\n",
      "28/28 [==============================] - 0s 4ms/step - loss: 0.0787 - accuracy: 0.9520\n",
      "Epoch 41/100\n",
      "28/28 [==============================] - 0s 4ms/step - loss: 0.0774 - accuracy: 0.9520\n",
      "Epoch 42/100\n",
      "28/28 [==============================] - 0s 4ms/step - loss: 0.0762 - accuracy: 0.9554\n",
      "Epoch 43/100\n",
      "28/28 [==============================] - 0s 4ms/step - loss: 0.0749 - accuracy: 0.9565\n",
      "Epoch 44/100\n",
      "28/28 [==============================] - 0s 6ms/step - loss: 0.0738 - accuracy: 0.9565\n",
      "Epoch 45/100\n",
      "28/28 [==============================] - 0s 6ms/step - loss: 0.0727 - accuracy: 0.9565\n",
      "Epoch 46/100\n",
      "28/28 [==============================] - 0s 4ms/step - loss: 0.0716 - accuracy: 0.9609\n",
      "Epoch 47/100\n",
      "28/28 [==============================] - 0s 4ms/step - loss: 0.0706 - accuracy: 0.9632\n",
      "Epoch 48/100\n",
      "28/28 [==============================] - 0s 4ms/step - loss: 0.0695 - accuracy: 0.9632\n",
      "Epoch 49/100\n",
      "28/28 [==============================] - 0s 4ms/step - loss: 0.0686 - accuracy: 0.9643\n",
      "Epoch 50/100\n",
      "28/28 [==============================] - 0s 4ms/step - loss: 0.0677 - accuracy: 0.9632\n",
      "Epoch 51/100\n",
      "28/28 [==============================] - 0s 5ms/step - loss: 0.0669 - accuracy: 0.9676\n",
      "Epoch 52/100\n",
      "28/28 [==============================] - 0s 5ms/step - loss: 0.0659 - accuracy: 0.9654\n",
      "Epoch 53/100\n",
      "28/28 [==============================] - 0s 5ms/step - loss: 0.0651 - accuracy: 0.9688\n",
      "Epoch 54/100\n",
      "28/28 [==============================] - 0s 5ms/step - loss: 0.0642 - accuracy: 0.9654\n",
      "Epoch 55/100\n",
      "28/28 [==============================] - 0s 5ms/step - loss: 0.0634 - accuracy: 0.9710\n",
      "Epoch 56/100\n",
      "28/28 [==============================] - 0s 5ms/step - loss: 0.0627 - accuracy: 0.9688\n",
      "Epoch 57/100\n",
      "28/28 [==============================] - 0s 5ms/step - loss: 0.0619 - accuracy: 0.9743\n",
      "Epoch 58/100\n",
      "28/28 [==============================] - 0s 5ms/step - loss: 0.0612 - accuracy: 0.9754\n",
      "Epoch 59/100\n",
      "28/28 [==============================] - 0s 5ms/step - loss: 0.0605 - accuracy: 0.9743\n",
      "Epoch 60/100\n",
      "28/28 [==============================] - 0s 5ms/step - loss: 0.0599 - accuracy: 0.9721\n",
      "Epoch 61/100\n",
      "28/28 [==============================] - 0s 5ms/step - loss: 0.0592 - accuracy: 0.9777\n",
      "Epoch 62/100\n",
      "28/28 [==============================] - 0s 5ms/step - loss: 0.0586 - accuracy: 0.9754\n",
      "Epoch 63/100\n",
      "28/28 [==============================] - 0s 4ms/step - loss: 0.0579 - accuracy: 0.9721\n",
      "Epoch 64/100\n",
      "28/28 [==============================] - 0s 4ms/step - loss: 0.0573 - accuracy: 0.9788\n",
      "Epoch 65/100\n",
      "28/28 [==============================] - 0s 5ms/step - loss: 0.0567 - accuracy: 0.9788\n",
      "Epoch 66/100\n",
      "28/28 [==============================] - 0s 5ms/step - loss: 0.0562 - accuracy: 0.9788\n",
      "Epoch 67/100\n",
      "28/28 [==============================] - 0s 5ms/step - loss: 0.0556 - accuracy: 0.9777\n",
      "Epoch 68/100\n",
      "28/28 [==============================] - 0s 5ms/step - loss: 0.0551 - accuracy: 0.9810\n",
      "Epoch 69/100\n",
      "28/28 [==============================] - 0s 5ms/step - loss: 0.0545 - accuracy: 0.9810\n",
      "Epoch 70/100\n",
      "28/28 [==============================] - 0s 8ms/step - loss: 0.0540 - accuracy: 0.9810\n",
      "Epoch 71/100\n",
      "28/28 [==============================] - 0s 5ms/step - loss: 0.0536 - accuracy: 0.9833\n",
      "Epoch 72/100\n",
      "28/28 [==============================] - 0s 5ms/step - loss: 0.0530 - accuracy: 0.9810\n",
      "Epoch 73/100\n",
      "28/28 [==============================] - 0s 5ms/step - loss: 0.0525 - accuracy: 0.9810\n",
      "Epoch 74/100\n",
      "28/28 [==============================] - 0s 5ms/step - loss: 0.0521 - accuracy: 0.9833\n",
      "Epoch 75/100\n",
      "28/28 [==============================] - 0s 5ms/step - loss: 0.0516 - accuracy: 0.9833\n",
      "Epoch 76/100\n",
      "28/28 [==============================] - 0s 5ms/step - loss: 0.0512 - accuracy: 0.9833\n",
      "Epoch 77/100\n",
      "28/28 [==============================] - 0s 4ms/step - loss: 0.0508 - accuracy: 0.9844\n",
      "Epoch 78/100\n",
      "28/28 [==============================] - 0s 4ms/step - loss: 0.0503 - accuracy: 0.9833\n",
      "Epoch 79/100\n",
      "28/28 [==============================] - 0s 5ms/step - loss: 0.0499 - accuracy: 0.9833\n",
      "Epoch 80/100\n",
      "28/28 [==============================] - 0s 5ms/step - loss: 0.0495 - accuracy: 0.9844\n",
      "Epoch 81/100\n",
      "28/28 [==============================] - 0s 5ms/step - loss: 0.0492 - accuracy: 0.9833\n",
      "Epoch 82/100\n",
      "28/28 [==============================] - 0s 6ms/step - loss: 0.0487 - accuracy: 0.9844\n",
      "Epoch 83/100\n",
      "28/28 [==============================] - 0s 5ms/step - loss: 0.0483 - accuracy: 0.9833\n",
      "Epoch 84/100\n",
      "28/28 [==============================] - 0s 5ms/step - loss: 0.0480 - accuracy: 0.9866\n",
      "Epoch 85/100\n",
      "28/28 [==============================] - 0s 5ms/step - loss: 0.0476 - accuracy: 0.9866\n",
      "Epoch 86/100\n",
      "28/28 [==============================] - 0s 5ms/step - loss: 0.0473 - accuracy: 0.9833\n",
      "Epoch 87/100\n",
      "28/28 [==============================] - 0s 5ms/step - loss: 0.0469 - accuracy: 0.9866\n",
      "Epoch 88/100\n",
      "28/28 [==============================] - 0s 5ms/step - loss: 0.0465 - accuracy: 0.9855\n",
      "Epoch 89/100\n",
      "28/28 [==============================] - 0s 5ms/step - loss: 0.0462 - accuracy: 0.9844\n",
      "Epoch 90/100\n",
      "28/28 [==============================] - 0s 5ms/step - loss: 0.0458 - accuracy: 0.9844\n",
      "Epoch 91/100\n",
      "28/28 [==============================] - 0s 5ms/step - loss: 0.0455 - accuracy: 0.9866\n",
      "Epoch 92/100\n",
      "28/28 [==============================] - 0s 5ms/step - loss: 0.0452 - accuracy: 0.9866\n",
      "Epoch 93/100\n",
      "28/28 [==============================] - 0s 5ms/step - loss: 0.0449 - accuracy: 0.9866\n",
      "Epoch 94/100\n",
      "28/28 [==============================] - 0s 5ms/step - loss: 0.0446 - accuracy: 0.9877\n",
      "Epoch 95/100\n",
      "28/28 [==============================] - 0s 5ms/step - loss: 0.0443 - accuracy: 0.9866\n",
      "Epoch 96/100\n",
      "28/28 [==============================] - 0s 5ms/step - loss: 0.0440 - accuracy: 0.9855\n",
      "Epoch 97/100\n",
      "28/28 [==============================] - 0s 5ms/step - loss: 0.0436 - accuracy: 0.9866\n",
      "Epoch 98/100\n",
      "28/28 [==============================] - 0s 5ms/step - loss: 0.0434 - accuracy: 0.9877\n",
      "Epoch 99/100\n",
      "28/28 [==============================] - 0s 5ms/step - loss: 0.0431 - accuracy: 0.9866\n",
      "Epoch 100/100\n",
      "28/28 [==============================] - 0s 5ms/step - loss: 0.0429 - accuracy: 0.9866\n"
     ]
    },
    {
     "data": {
      "text/plain": [
       "<keras.callbacks.History at 0x7f1b1dcd2b80>"
      ]
     },
     "execution_count": 6,
     "metadata": {},
     "output_type": "execute_result"
    }
   ],
   "source": [
    "# fit the model based on training data\n",
    "model.fit(X_train, Y_train, epochs=100, batch_size=32)"
   ]
  },
  {
   "cell_type": "code",
   "execution_count": 7,
   "metadata": {},
   "outputs": [
    {
     "name": "stdout",
     "output_type": "stream",
     "text": [
      "Test Dataset Score: 0.9821826219558716\n"
     ]
    }
   ],
   "source": [
    "# evaluate the model\n",
    "scores = model.evaluate(X_test, Y_test, verbose=0)\n",
    "print(f\"Test Dataset Score: {scores[1]}\")"
   ]
  },
  {
   "cell_type": "code",
   "execution_count": null,
   "metadata": {},
   "outputs": [],
   "source": []
  }
 ],
 "metadata": {
  "kernelspec": {
   "display_name": "Python 3",
   "language": "python",
   "name": "python3"
  },
  "language_info": {
   "codemirror_mode": {
    "name": "ipython",
    "version": 3
   },
   "file_extension": ".py",
   "mimetype": "text/x-python",
   "name": "python",
   "nbconvert_exporter": "python",
   "pygments_lexer": "ipython3",
   "version": "3.8.10"
  },
  "orig_nbformat": 4
 },
 "nbformat": 4,
 "nbformat_minor": 2
}
