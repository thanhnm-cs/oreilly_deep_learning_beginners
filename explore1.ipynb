{
 "cells": [
  {
   "cell_type": "code",
   "execution_count": 1,
   "metadata": {},
   "outputs": [
    {
     "name": "stdout",
     "output_type": "stream",
     "text": [
      "Requirement already satisfied: pandas in /anaconda/envs/azureml_py38/lib/python3.8/site-packages (1.1.5)\n",
      "Requirement already satisfied: numpy in /anaconda/envs/azureml_py38/lib/python3.8/site-packages (1.21.6)\n",
      "Requirement already satisfied: scikit-learn in /anaconda/envs/azureml_py38/lib/python3.8/site-packages (0.22.1)\n",
      "Requirement already satisfied: pytz>=2017.2 in /anaconda/envs/azureml_py38/lib/python3.8/site-packages (from pandas) (2022.5)\n",
      "Requirement already satisfied: python-dateutil>=2.7.3 in /anaconda/envs/azureml_py38/lib/python3.8/site-packages (from pandas) (2.8.2)\n",
      "Requirement already satisfied: scipy>=0.17.0 in /anaconda/envs/azureml_py38/lib/python3.8/site-packages (from scikit-learn) (1.5.3)\n",
      "Requirement already satisfied: joblib>=0.11 in /anaconda/envs/azureml_py38/lib/python3.8/site-packages (from scikit-learn) (0.14.1)\n",
      "Requirement already satisfied: six>=1.5 in /anaconda/envs/azureml_py38/lib/python3.8/site-packages (from python-dateutil>=2.7.3->pandas) (1.16.0)\n"
     ]
    }
   ],
   "source": [
    "!pip3 install pandas numpy scikit-learn"
   ]
  },
  {
   "cell_type": "code",
   "execution_count": 2,
   "metadata": {},
   "outputs": [
    {
     "name": "stderr",
     "output_type": "stream",
     "text": [
      "2023-06-16 05:21:19.415832: I tensorflow/stream_executor/platform/default/dso_loader.cc:44] Successfully opened dynamic library libcuda.so.1\n",
      "2023-06-16 05:21:19.567345: E tensorflow/stream_executor/cuda/cuda_driver.cc:313] failed call to cuInit: CUDA_ERROR_NO_DEVICE: no CUDA-capable device is detected\n",
      "2023-06-16 05:21:19.567387: I tensorflow/stream_executor/cuda/cuda_diagnostics.cc:156] kernel driver does not appear to be running on this host (thanhnm7772): /proc/driver/nvidia/version does not exist\n"
     ]
    },
    {
     "data": {
      "text/plain": [
       "[]"
      ]
     },
     "execution_count": 2,
     "metadata": {},
     "output_type": "execute_result"
    }
   ],
   "source": [
    "import tensorflow as tf\n",
    "tf.config.list_physical_devices('GPU')\n"
   ]
  },
  {
   "cell_type": "code",
   "execution_count": 3,
   "metadata": {},
   "outputs": [],
   "source": [
    "\n",
    "model = tf.keras.models.Sequential([\n",
    "  tf.keras.layers.Dense(3, activation='relu'),\n",
    "  tf.keras.layers.Dense(1, activation='sigmoid')\n",
    "])\n"
   ]
  },
  {
   "cell_type": "code",
   "execution_count": 4,
   "metadata": {},
   "outputs": [
    {
     "name": "stderr",
     "output_type": "stream",
     "text": [
      "2023-06-16 05:21:19.718643: I tensorflow/core/platform/cpu_feature_guard.cc:143] Your CPU supports instructions that this TensorFlow binary was not compiled to use: AVX2 AVX512F FMA\n",
      "2023-06-16 05:21:19.725261: I tensorflow/core/platform/profile_utils/cpu_utils.cc:102] CPU Frequency: 2693670000 Hz\n",
      "2023-06-16 05:21:19.726103: I tensorflow/compiler/xla/service/service.cc:168] XLA service 0x7ff5cc000b60 initialized for platform Host (this does not guarantee that XLA will be used). Devices:\n",
      "2023-06-16 05:21:19.726127: I tensorflow/compiler/xla/service/service.cc:176]   StreamExecutor device (0): Host, Default Version\n"
     ]
    }
   ],
   "source": [
    "loss_fn = tf.keras.losses.MeanSquaredError()\n",
    "\n",
    "# compile the model \n",
    "model.compile(optimizer='adam',\n",
    "              loss=loss_fn,\n",
    "              metrics=['accuracy'])\n",
    "\n"
   ]
  },
  {
   "cell_type": "code",
   "execution_count": 5,
   "metadata": {},
   "outputs": [],
   "source": [
    "\n",
    "import pandas as pd \n",
    "from sklearn.model_selection import train_test_split\n",
    "from sklearn.metrics import confusion_matrix\n",
    "\n",
    "data = pd.read_csv(\"https://tinyurl.com/y2qmhfsr\")\n",
    "\n",
    "# Extract the input columns, scale down by 255\n",
    "X = (data.iloc[:, 0:3].values / 255.0)\n",
    "Y = data.iloc[:, -1].values\n",
    "\n",
    "# Split train and test data sets\n",
    "X_train, X_test, Y_train, Y_test = train_test_split(X, Y, test_size=1/3)\n",
    "\n",
    "\n",
    "\n"
   ]
  },
  {
   "cell_type": "code",
   "execution_count": 6,
   "metadata": {},
   "outputs": [
    {
     "name": "stdout",
     "output_type": "stream",
     "text": [
      "Epoch 1/100\n",
      "28/28 [==============================] - 0s 872us/step - loss: 0.3361 - accuracy: 0.3560\n",
      "Epoch 2/100\n",
      "28/28 [==============================] - 0s 697us/step - loss: 0.3143 - accuracy: 0.3147\n",
      "Epoch 3/100\n",
      "28/28 [==============================] - 0s 696us/step - loss: 0.2960 - accuracy: 0.2634\n",
      "Epoch 4/100\n",
      "28/28 [==============================] - 0s 714us/step - loss: 0.2815 - accuracy: 0.2109\n",
      "Epoch 5/100\n",
      "28/28 [==============================] - 0s 867us/step - loss: 0.2699 - accuracy: 0.2121\n",
      "Epoch 6/100\n",
      "28/28 [==============================] - 0s 686us/step - loss: 0.2604 - accuracy: 0.3471\n",
      "Epoch 7/100\n",
      "28/28 [==============================] - 0s 691us/step - loss: 0.2535 - accuracy: 0.5179\n",
      "Epoch 8/100\n",
      "28/28 [==============================] - 0s 685us/step - loss: 0.2492 - accuracy: 0.5692\n",
      "Epoch 9/100\n",
      "28/28 [==============================] - 0s 807us/step - loss: 0.2465 - accuracy: 0.5859\n",
      "Epoch 10/100\n",
      "28/28 [==============================] - 0s 722us/step - loss: 0.2444 - accuracy: 0.5960\n",
      "Epoch 11/100\n",
      "28/28 [==============================] - 0s 678us/step - loss: 0.2422 - accuracy: 0.6105\n",
      "Epoch 12/100\n",
      "28/28 [==============================] - 0s 694us/step - loss: 0.2390 - accuracy: 0.6205\n",
      "Epoch 13/100\n",
      "28/28 [==============================] - 0s 754us/step - loss: 0.2349 - accuracy: 0.6283\n",
      "Epoch 14/100\n",
      "28/28 [==============================] - 0s 752us/step - loss: 0.2299 - accuracy: 0.6295\n",
      "Epoch 15/100\n",
      "28/28 [==============================] - 0s 669us/step - loss: 0.2247 - accuracy: 0.6295\n",
      "Epoch 16/100\n",
      "28/28 [==============================] - 0s 820us/step - loss: 0.2200 - accuracy: 0.6295\n",
      "Epoch 17/100\n",
      "28/28 [==============================] - 0s 773us/step - loss: 0.2158 - accuracy: 0.6295\n",
      "Epoch 18/100\n",
      "28/28 [==============================] - 0s 777us/step - loss: 0.2122 - accuracy: 0.6295\n",
      "Epoch 19/100\n",
      "28/28 [==============================] - 0s 680us/step - loss: 0.2092 - accuracy: 0.6295\n",
      "Epoch 20/100\n",
      "28/28 [==============================] - 0s 657us/step - loss: 0.2062 - accuracy: 0.6295\n",
      "Epoch 21/100\n",
      "28/28 [==============================] - 0s 668us/step - loss: 0.2036 - accuracy: 0.6295\n",
      "Epoch 22/100\n",
      "28/28 [==============================] - 0s 847us/step - loss: 0.2010 - accuracy: 0.6295\n",
      "Epoch 23/100\n",
      "28/28 [==============================] - 0s 667us/step - loss: 0.1984 - accuracy: 0.6295\n",
      "Epoch 24/100\n",
      "28/28 [==============================] - 0s 681us/step - loss: 0.1958 - accuracy: 0.6295\n",
      "Epoch 25/100\n",
      "28/28 [==============================] - 0s 657us/step - loss: 0.1932 - accuracy: 0.6295\n",
      "Epoch 26/100\n",
      "28/28 [==============================] - 0s 797us/step - loss: 0.1906 - accuracy: 0.6295\n",
      "Epoch 27/100\n",
      "28/28 [==============================] - 0s 721us/step - loss: 0.1881 - accuracy: 0.6295\n",
      "Epoch 28/100\n",
      "28/28 [==============================] - 0s 663us/step - loss: 0.1855 - accuracy: 0.6295\n",
      "Epoch 29/100\n",
      "28/28 [==============================] - 0s 688us/step - loss: 0.1830 - accuracy: 0.6295\n",
      "Epoch 30/100\n",
      "28/28 [==============================] - 0s 685us/step - loss: 0.1805 - accuracy: 0.6295\n",
      "Epoch 31/100\n",
      "28/28 [==============================] - 0s 773us/step - loss: 0.1779 - accuracy: 0.6295\n",
      "Epoch 32/100\n",
      "28/28 [==============================] - 0s 700us/step - loss: 0.1754 - accuracy: 0.6295\n",
      "Epoch 33/100\n",
      "28/28 [==============================] - 0s 659us/step - loss: 0.1729 - accuracy: 0.6295\n",
      "Epoch 34/100\n",
      "28/28 [==============================] - 0s 660us/step - loss: 0.1704 - accuracy: 0.6295\n",
      "Epoch 35/100\n",
      "28/28 [==============================] - 0s 808us/step - loss: 0.1680 - accuracy: 0.6518\n",
      "Epoch 36/100\n",
      "28/28 [==============================] - 0s 700us/step - loss: 0.1655 - accuracy: 0.7065\n",
      "Epoch 37/100\n",
      "28/28 [==============================] - 0s 677us/step - loss: 0.1631 - accuracy: 0.7176\n",
      "Epoch 38/100\n",
      "28/28 [==============================] - 0s 657us/step - loss: 0.1608 - accuracy: 0.7277\n",
      "Epoch 39/100\n",
      "28/28 [==============================] - 0s 742us/step - loss: 0.1584 - accuracy: 0.7344\n",
      "Epoch 40/100\n",
      "28/28 [==============================] - 0s 757us/step - loss: 0.1561 - accuracy: 0.7422\n",
      "Epoch 41/100\n",
      "28/28 [==============================] - 0s 654us/step - loss: 0.1538 - accuracy: 0.7500\n",
      "Epoch 42/100\n",
      "28/28 [==============================] - 0s 669us/step - loss: 0.1515 - accuracy: 0.7545\n",
      "Epoch 43/100\n",
      "28/28 [==============================] - 0s 660us/step - loss: 0.1493 - accuracy: 0.7645\n",
      "Epoch 44/100\n",
      "28/28 [==============================] - 0s 836us/step - loss: 0.1471 - accuracy: 0.7679\n",
      "Epoch 45/100\n",
      "28/28 [==============================] - 0s 679us/step - loss: 0.1449 - accuracy: 0.7812\n",
      "Epoch 46/100\n",
      "28/28 [==============================] - 0s 655us/step - loss: 0.1427 - accuracy: 0.7924\n",
      "Epoch 47/100\n",
      "28/28 [==============================] - 0s 650us/step - loss: 0.1406 - accuracy: 0.8002\n",
      "Epoch 48/100\n",
      "28/28 [==============================] - 0s 773us/step - loss: 0.1384 - accuracy: 0.8069\n",
      "Epoch 49/100\n",
      "28/28 [==============================] - 0s 741us/step - loss: 0.1364 - accuracy: 0.8114\n",
      "Epoch 50/100\n",
      "28/28 [==============================] - 0s 675us/step - loss: 0.1343 - accuracy: 0.8181\n",
      "Epoch 51/100\n",
      "28/28 [==============================] - 0s 666us/step - loss: 0.1323 - accuracy: 0.8270\n",
      "Epoch 52/100\n",
      "28/28 [==============================] - 0s 695us/step - loss: 0.1302 - accuracy: 0.8348\n",
      "Epoch 53/100\n",
      "28/28 [==============================] - 0s 791us/step - loss: 0.1282 - accuracy: 0.8393\n",
      "Epoch 54/100\n",
      "28/28 [==============================] - 0s 675us/step - loss: 0.1263 - accuracy: 0.8438\n",
      "Epoch 55/100\n",
      "28/28 [==============================] - 0s 751us/step - loss: 0.1244 - accuracy: 0.8460\n",
      "Epoch 56/100\n",
      "28/28 [==============================] - 0s 661us/step - loss: 0.1225 - accuracy: 0.8504\n",
      "Epoch 57/100\n",
      "28/28 [==============================] - 0s 771us/step - loss: 0.1207 - accuracy: 0.8571\n",
      "Epoch 58/100\n",
      "28/28 [==============================] - 0s 691us/step - loss: 0.1188 - accuracy: 0.8594\n",
      "Epoch 59/100\n",
      "28/28 [==============================] - 0s 663us/step - loss: 0.1170 - accuracy: 0.8616\n",
      "Epoch 60/100\n",
      "28/28 [==============================] - 0s 800us/step - loss: 0.1153 - accuracy: 0.8627\n",
      "Epoch 61/100\n",
      "28/28 [==============================] - 0s 732us/step - loss: 0.1136 - accuracy: 0.8661\n",
      "Epoch 62/100\n",
      "28/28 [==============================] - 0s 749us/step - loss: 0.1120 - accuracy: 0.8750\n",
      "Epoch 63/100\n",
      "28/28 [==============================] - 0s 671us/step - loss: 0.1103 - accuracy: 0.8772\n",
      "Epoch 64/100\n",
      "28/28 [==============================] - 0s 669us/step - loss: 0.1087 - accuracy: 0.8817\n",
      "Epoch 65/100\n",
      "28/28 [==============================] - 0s 698us/step - loss: 0.1072 - accuracy: 0.8828\n",
      "Epoch 66/100\n",
      "28/28 [==============================] - 0s 816us/step - loss: 0.1057 - accuracy: 0.8839\n",
      "Epoch 67/100\n",
      "28/28 [==============================] - 0s 702us/step - loss: 0.1042 - accuracy: 0.8929\n",
      "Epoch 68/100\n",
      "28/28 [==============================] - 0s 670us/step - loss: 0.1027 - accuracy: 0.8973\n",
      "Epoch 69/100\n",
      "28/28 [==============================] - 0s 661us/step - loss: 0.1013 - accuracy: 0.8996\n",
      "Epoch 70/100\n",
      "28/28 [==============================] - 0s 757us/step - loss: 0.0999 - accuracy: 0.9007\n",
      "Epoch 71/100\n",
      "28/28 [==============================] - 0s 746us/step - loss: 0.0985 - accuracy: 0.9051\n",
      "Epoch 72/100\n",
      "28/28 [==============================] - 0s 660us/step - loss: 0.0972 - accuracy: 0.9085\n",
      "Epoch 73/100\n",
      "28/28 [==============================] - 0s 664us/step - loss: 0.0958 - accuracy: 0.9096\n",
      "Epoch 74/100\n",
      "28/28 [==============================] - 0s 735us/step - loss: 0.0947 - accuracy: 0.9163\n",
      "Epoch 75/100\n",
      "28/28 [==============================] - 0s 778us/step - loss: 0.0933 - accuracy: 0.9152\n",
      "Epoch 76/100\n",
      "28/28 [==============================] - 0s 692us/step - loss: 0.0921 - accuracy: 0.9152\n",
      "Epoch 77/100\n",
      "28/28 [==============================] - 0s 671us/step - loss: 0.0909 - accuracy: 0.9174\n",
      "Epoch 78/100\n",
      "28/28 [==============================] - 0s 658us/step - loss: 0.0897 - accuracy: 0.9196\n",
      "Epoch 79/100\n",
      "28/28 [==============================] - 0s 799us/step - loss: 0.0886 - accuracy: 0.9208\n",
      "Epoch 80/100\n",
      "28/28 [==============================] - 0s 684us/step - loss: 0.0875 - accuracy: 0.9196\n",
      "Epoch 81/100\n",
      "28/28 [==============================] - 0s 663us/step - loss: 0.0864 - accuracy: 0.9230\n",
      "Epoch 82/100\n",
      "28/28 [==============================] - 0s 673us/step - loss: 0.0853 - accuracy: 0.9230\n",
      "Epoch 83/100\n",
      "28/28 [==============================] - 0s 692us/step - loss: 0.0843 - accuracy: 0.9241\n",
      "Epoch 84/100\n",
      "28/28 [==============================] - 0s 732us/step - loss: 0.0832 - accuracy: 0.9252\n",
      "Epoch 85/100\n",
      "28/28 [==============================] - 0s 654us/step - loss: 0.0822 - accuracy: 0.9241\n",
      "Epoch 86/100\n",
      "28/28 [==============================] - 0s 685us/step - loss: 0.0812 - accuracy: 0.9252\n",
      "Epoch 87/100\n",
      "28/28 [==============================] - 0s 663us/step - loss: 0.0802 - accuracy: 0.9330\n",
      "Epoch 88/100\n",
      "28/28 [==============================] - 0s 785us/step - loss: 0.0793 - accuracy: 0.9353\n",
      "Epoch 89/100\n",
      "28/28 [==============================] - 0s 669us/step - loss: 0.0783 - accuracy: 0.9330\n",
      "Epoch 90/100\n",
      "28/28 [==============================] - 0s 658us/step - loss: 0.0774 - accuracy: 0.9375\n",
      "Epoch 91/100\n",
      "28/28 [==============================] - 0s 668us/step - loss: 0.0765 - accuracy: 0.9375\n",
      "Epoch 92/100\n",
      "28/28 [==============================] - 0s 797us/step - loss: 0.0757 - accuracy: 0.9375\n",
      "Epoch 93/100\n",
      "28/28 [==============================] - 0s 729us/step - loss: 0.0748 - accuracy: 0.9386\n",
      "Epoch 94/100\n",
      "28/28 [==============================] - 0s 656us/step - loss: 0.0739 - accuracy: 0.9408\n",
      "Epoch 95/100\n",
      "28/28 [==============================] - 0s 668us/step - loss: 0.0731 - accuracy: 0.9408\n",
      "Epoch 96/100\n",
      "28/28 [==============================] - 0s 687us/step - loss: 0.0723 - accuracy: 0.9420\n",
      "Epoch 97/100\n",
      "28/28 [==============================] - 0s 848us/step - loss: 0.0715 - accuracy: 0.9453\n",
      "Epoch 98/100\n",
      "28/28 [==============================] - 0s 669us/step - loss: 0.0707 - accuracy: 0.9498\n",
      "Epoch 99/100\n",
      "28/28 [==============================] - 0s 677us/step - loss: 0.0698 - accuracy: 0.9498\n",
      "Epoch 100/100\n",
      "28/28 [==============================] - 0s 653us/step - loss: 0.0690 - accuracy: 0.9509\n"
     ]
    },
    {
     "data": {
      "text/plain": [
       "<tensorflow.python.keras.callbacks.History at 0x7ff5a1cc6970>"
      ]
     },
     "execution_count": 6,
     "metadata": {},
     "output_type": "execute_result"
    }
   ],
   "source": [
    "# fit the model based on training data\n",
    "model.fit(X_train, Y_train, epochs=100, batch_size=32)"
   ]
  },
  {
   "cell_type": "code",
   "execution_count": 7,
   "metadata": {},
   "outputs": [
    {
     "name": "stdout",
     "output_type": "stream",
     "text": [
      "Test Dataset Score: 0.948775053024292\n"
     ]
    }
   ],
   "source": [
    "# evaluate the model\n",
    "scores = model.evaluate(X_test, Y_test, verbose=0)\n",
    "print(f\"Test Dataset Score: {scores[1]}\")"
   ]
  },
  {
   "cell_type": "code",
   "execution_count": 8,
   "metadata": {},
   "outputs": [],
   "source": [
    "exit()"
   ]
  }
 ],
 "metadata": {
  "kernelspec": {
   "display_name": "Python 3.8 - AzureML",
   "language": "python",
   "name": "python38-azureml"
  },
  "language_info": {
   "codemirror_mode": {
    "name": "ipython",
    "version": 3
   },
   "file_extension": ".py",
   "mimetype": "text/x-python",
   "name": "python",
   "nbconvert_exporter": "python",
   "pygments_lexer": "ipython3",
   "version": "3.8.5"
  },
  "orig_nbformat": 4
 },
 "nbformat": 4,
 "nbformat_minor": 2
}
